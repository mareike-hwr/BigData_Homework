{
 "cells": [
  {
   "cell_type": "code",
   "execution_count": 93,
   "metadata": {},
   "outputs": [],
   "source": [
    "class Element:\n",
    "    def __init__(self, data):\n",
    "        #store data\n",
    "        self.data = data\n",
    "        #store reference to next item\n",
    "        self.next = None "
   ]
  },
  {
   "cell_type": "code",
   "execution_count": 141,
   "metadata": {},
   "outputs": [],
   "source": [
    "class LinkedList:\n",
    "    def __init__(self):\n",
    "        self.head = None \n",
    "        self.tail = None\n",
    "        \n",
    "        \n",
    "    def append(self, new_element):\n",
    "        \"\"\"Append the new element at the end of the list.\n",
    "        if there is no element yet in the list, it is the head element.\"\"\"\n",
    "        if not isinstance(new_element, Element):\n",
    "            new_element = Element(new_element)\n",
    "            \n",
    "        if self.head is None: \n",
    "            self.head = new_element\n",
    "        else:\n",
    "            self.tail.next= new_element\n",
    "        \n",
    "        self.tail = new_element\n",
    "        return\n",
    "    \n",
    "    def get_position(self, position):\n",
    "        \"\"\"Get an element from a particular position.\n",
    "        Assume the first position is the index \"1\".\n",
    "        Return \"None\" if position is not in the list.\"\"\"\n",
    "        #define current\n",
    "        current = self.head \n",
    "        #define position \n",
    "        count = 1\n",
    "        \n",
    "        #Loop through list while end of linked list is not reached\n",
    "        while(current):\n",
    "            if(count==position):\n",
    "                return current.data\n",
    "            count += 1\n",
    "            current = current.next\n",
    "        \n",
    "        #If we are at the end of the list and element is non-existing\n",
    "        #return \"none\"  \n",
    "        return None;\n",
    "       \n",
    "        \n",
    "    def insert(self, new_element, position):\n",
    "        \"\"\"Insert a new node at the given position.\n",
    "        Assume the first position is \"1\".\n",
    "        Inserting at position 3 means between the 2nd and 3rd elements.\"\"\"\n",
    "        element = Element(new_element)\n",
    "        head = self.head\n",
    "        \n",
    "        if not head: \n",
    "            head = element\n",
    "        elif position == 0: \n",
    "            element.next = head\n",
    "            head = element \n",
    "        else: \n",
    "            previous = None\n",
    "            current = head\n",
    "            current_position = 1\n",
    "            while (current_position < position) and current.next:\n",
    "                previous = current\n",
    "                current = current.next \n",
    "                current_position += 1 \n",
    "            previous.next = element\n",
    "            element.next = current  \n",
    "        return head  \n",
    "            \n",
    "    \n",
    "    \n",
    "    def delete(self, data):\n",
    "        \"\"\"Delete the first node with a given value.\"\"\"\n",
    "        current_id = 1\n",
    "        current_node = self.head\n",
    "        previous_node = None\n",
    "        \n",
    "        while current_node is not None:\n",
    "            if current_id == data:\n",
    "            #if this is the head\n",
    "                if previous_node is not None:\n",
    "                    previous_node.next = current_node.next\n",
    "                else:\n",
    "                    self.head = current_node.next\n",
    "                    return\n",
    "                \n",
    "            #define for next iteration\n",
    "            previous_node = current_node\n",
    "            current_node = current_node.next\n",
    "            current_id = current_id + 1 \n",
    "        return\n",
    "                "
   ]
  },
  {
   "cell_type": "code",
   "execution_count": 142,
   "metadata": {},
   "outputs": [],
   "source": [
    "# Test cases\n",
    "# Set up some Elements\n",
    "e1 = Element(1)\n",
    "e2 = Element(2)\n",
    "e3 = Element(3)\n",
    "e4 = Element(4)\n",
    "\n",
    "# Start setting up a LinkedList\n",
    "llist = LinkedList()\n",
    "llist.append(e1)\n",
    "llist.append(e2)\n",
    "llist.append(e3)\n"
   ]
  },
  {
   "cell_type": "code",
   "execution_count": 143,
   "metadata": {},
   "outputs": [
    {
     "name": "stdout",
     "output_type": "stream",
     "text": [
      "3\n"
     ]
    }
   ],
   "source": [
    "# Test if appends were correct\n",
    "# Should be 3\n",
    "print(llist.head.next.next.data)"
   ]
  },
  {
   "cell_type": "code",
   "execution_count": 144,
   "metadata": {},
   "outputs": [
    {
     "name": "stdout",
     "output_type": "stream",
     "text": [
      "3\n"
     ]
    }
   ],
   "source": [
    "# Test get_position\n",
    "# Should also be 3\n",
    "print(llist.get_position(3))"
   ]
  },
  {
   "cell_type": "code",
   "execution_count": 145,
   "metadata": {},
   "outputs": [
    {
     "name": "stdout",
     "output_type": "stream",
     "text": [
      "<__main__.Element object at 0x103a0b640>\n"
     ]
    }
   ],
   "source": [
    "# Test insert\n",
    "llist.insert(e4,3)\n",
    "# Should print 4 now\n",
    "print(llist.get_position(3))"
   ]
  },
  {
   "cell_type": "code",
   "execution_count": 140,
   "metadata": {},
   "outputs": [
    {
     "name": "stdout",
     "output_type": "stream",
     "text": [
      "2\n",
      "<__main__.Element object at 0x103abde20>\n",
      "3\n"
     ]
    }
   ],
   "source": [
    "# Test delete\n",
    "llist.delete(1)\n",
    "# Should print 2 now\n",
    "print(llist.get_position(1))\n",
    "# Should print 4 now\n",
    "print(llist.get_position(2))\n",
    "# Should print 3 now\n",
    "print(llist.get_position(3))"
   ]
  }
 ],
 "metadata": {
  "kernelspec": {
   "display_name": "Python 3",
   "language": "python",
   "name": "python3"
  },
  "language_info": {
   "codemirror_mode": {
    "name": "ipython",
    "version": 3
   },
   "file_extension": ".py",
   "mimetype": "text/x-python",
   "name": "python",
   "nbconvert_exporter": "python",
   "pygments_lexer": "ipython3",
   "version": "3.8.2"
  }
 },
 "nbformat": 4,
 "nbformat_minor": 4
}
