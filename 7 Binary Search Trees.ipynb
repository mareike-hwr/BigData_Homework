{
 "cells": [
  {
   "cell_type": "code",
   "execution_count": 28,
   "metadata": {},
   "outputs": [],
   "source": [
    "class Node:\n",
    "    \"\"\"\n",
    "    Tree node with left and right child and data\n",
    "    \"\"\"\n",
    "    def __init__(self, data):\n",
    "        self.left = None\n",
    "        self.right = None\n",
    "        self.data = data\n",
    "        \n",
    "    def add(self, val):\n",
    "        if val <= self.data:\n",
    "            if self.left:\n",
    "                self.left.add(val)\n",
    "            else:\n",
    "                self.left = Node(val)\n",
    "        else: \n",
    "            if self.right:\n",
    "                self.right.add(val)\n",
    "            else:\n",
    "                self.right= Node(val)\n",
    "    "
   ]
  },
  {
   "cell_type": "code",
   "execution_count": 44,
   "metadata": {},
   "outputs": [],
   "source": [
    "class Tree:\n",
    "    def __init__(self):\n",
    "        \"\"\"Create an empty binary search tree\"\"\"\n",
    "        self.root = None \n",
    "        \n",
    "    \n",
    "    def insert(self, item):\n",
    "        \"\"\"Add an item in the binary search tree\"\"\"\n",
    "        if self.root is None:\n",
    "            self.root = Node(item)\n",
    "        else:\n",
    "            self.root.add(item)\n",
    "        \n",
    "    def find(self, item):\n",
    "        \"\"\"Returns true if item is in the tree or false otherwise\"\"\"\n",
    "        # TODO\n",
    "        node = self.root\n",
    "        while node:\n",
    "            if item < node.data:\n",
    "                node = node.left\n",
    "            elif item > node.data:\n",
    "                node = node.right\n",
    "            else:\n",
    "                node = node.right\n",
    "        return \"True\""
   ]
  },
  {
   "cell_type": "code",
   "execution_count": 45,
   "metadata": {},
   "outputs": [],
   "source": [
    "tree = Tree()"
   ]
  },
  {
   "cell_type": "code",
   "execution_count": 46,
   "metadata": {},
   "outputs": [],
   "source": [
    "tree.insert(30)\n",
    "tree.insert(5)\n",
    "tree.insert(50)\n",
    "tree.insert(8)\n",
    "tree.insert(3)\n",
    "tree.insert(100)\n",
    "tree.insert(40)"
   ]
  },
  {
   "cell_type": "code",
   "execution_count": 47,
   "metadata": {},
   "outputs": [
    {
     "data": {
      "text/plain": [
       "'True'"
      ]
     },
     "execution_count": 47,
     "metadata": {},
     "output_type": "execute_result"
    }
   ],
   "source": [
    "tree.find(8)"
   ]
  },
  {
   "cell_type": "code",
   "execution_count": 48,
   "metadata": {},
   "outputs": [
    {
     "data": {
      "text/plain": [
       "'True'"
      ]
     },
     "execution_count": 48,
     "metadata": {},
     "output_type": "execute_result"
    }
   ],
   "source": [
    "tree.find(9)"
   ]
  },
  {
   "cell_type": "markdown",
   "metadata": {},
   "source": [
    "# Why is the worst case time complexity of the find method only \n",
    "\n",
    "$O(n)$ and not $O(log n)$?\n"
   ]
  }
 ],
 "metadata": {
  "kernelspec": {
   "display_name": "Python 3",
   "language": "python",
   "name": "python3"
  },
  "language_info": {
   "codemirror_mode": {
    "name": "ipython",
    "version": 3
   },
   "file_extension": ".py",
   "mimetype": "text/x-python",
   "name": "python",
   "nbconvert_exporter": "python",
   "pygments_lexer": "ipython3",
   "version": "3.8.2"
  }
 },
 "nbformat": 4,
 "nbformat_minor": 4
}
